{
 "cells": [
  {
   "cell_type": "markdown",
   "id": "c94e725d",
   "metadata": {},
   "source": [
    "### Import libraries"
   ]
  },
  {
   "cell_type": "code",
   "execution_count": 3,
   "id": "36e538bf",
   "metadata": {},
   "outputs": [],
   "source": [
    "import pandas as pd\n",
    "import numpy as np\n",
    "import yfinance as yf\n",
    "from datetime import datetime\n",
    "import matplotlib.pyplot as plt\n",
    "\n",
    "from fredapi import Fred\n",
    "\n",
    "from sklearn.ensemble import RandomForestClassifier\n",
    "from sklearn.model_selection import GridSearchCV\n",
    "from sklearn.metrics import precision_score,accuracy_score\n",
    "from sklearn.model_selection import TimeSeriesSplit"
   ]
  },
  {
   "cell_type": "markdown",
   "id": "d1a74456",
   "metadata": {},
   "source": [
    "### Helpers"
   ]
  },
  {
   "cell_type": "code",
   "execution_count": null,
   "id": "614930d8",
   "metadata": {},
   "outputs": [],
   "source": [
    "#########################\n",
    "## Feature engineering ##\n",
    "#########################\n",
    "\n",
    "def create_ohlc_features(df, horizons=[2, 5, 10, 15, 20,60,100]):\n",
    "    predictors = []\n",
    "\n",
    "    for horizon in horizons:\n",
    "        rolling_averages = df.rolling(horizon).mean()\n",
    "        df[f\"Close_Ratio_{horizon}\"] = df[\"close\"] / rolling_averages[\"close\"]\n",
    "        df[f\"Trend_{horizon}\"] = df.shift(1).rolling(horizon).sum()[\"target\"]\n",
    "        df[f\"Volatility_{horizon}\"] = df[\"close\"].rolling(horizon).std()\n",
    "        df[f\"Momentum_{horizon}\"] = df[\"close\"] - df[\"close\"].shift(horizon)\n",
    "        df[f\"EMA_{horizon}\"] = df[\"close\"].ewm(span=horizon, adjust=False).mean()\n",
    "        df[\"Cumulative_Return\"] = df[\"close\"].pct_change().cumsum()\n",
    "\n",
    "        predictors += [\n",
    "            f\"Close_Ratio_{horizon}\",\n",
    "            f\"Trend_{horizon}\",\n",
    "            f\"Volatility_{horizon}\",\n",
    "            f\"Momentum_{horizon}\",\n",
    "            f\"EMA_{horizon}\",\n",
    "            \"Cumulative_Return\",\n",
    "        ]\n",
    "\n",
    "    df = df.dropna()  \n",
    "    return df, predictors\n",
    "\n",
    "def create_interest_rate_features(df):\n",
    "    # First-order difference (rate of change)\n",
    "    df[\"Interest_Rate_Change\"] = df[\"rates\"].diff()\n",
    "\n",
    "    # Second-order difference (change in rate of change)\n",
    "    df[\"Interest_Rate_Change_Diff\"] = df[\"Interest_Rate_Change\"].diff()\n",
    "\n",
    "    # Previous period rate change indicator\n",
    "    df[\"Previous_Rate_Direction\"] = df[\"Interest_Rate_Change\"].shift(1).apply(\n",
    "    lambda x: 1 if x > 0 else (-1 if x < 0 else 0))\n",
    "\n",
    "    # List of predictors\n",
    "    predictors = [\n",
    "        \"Interest_Rate_Change\",\n",
    "        \"Interest_Rate_Change_Diff\",\n",
    "        \"Previous_Rate_Direction\",\n",
    "    ]\n",
    "\n",
    "    return df, predictors\n",
    "\n",
    "def create_calendar_features(df, date_col):\n",
    " \n",
    "    # Ensure the date column is in datetime format\n",
    "    df[date_col] = pd.to_datetime(df[date_col])\n",
    "\n",
    "    # Calendar features\n",
    "    df[\"day_of_week\"] = df[date_col].dt.dayofweek\n",
    "    df[\"day_of_month\"] = df[date_col].dt.day\n",
    "    df[\"week_of_year\"] = df[date_col].dt.isocalendar().week\n",
    "    df[\"month\"] = df[date_col].dt.month\n",
    "    df[\"year\"] = df[date_col].dt.year\n",
    "    df[\"quarter\"] = df[date_col].dt.quarter\n",
    "    df[\"is_month_end\"] = df[date_col].dt.is_month_end.astype(int)\n",
    "    df[\"is_month_start\"] = df[date_col].dt.is_month_start.astype(int)\n",
    "\n",
    "    # Cyclical encoding\n",
    "    df[\"day_of_week_sin\"] = np.sin(2 * np.pi * df[\"day_of_week\"] / 7)\n",
    "    df[\"day_of_week_cos\"] = np.cos(2 * np.pi * df[\"day_of_week\"] / 7)\n",
    "    df[\"month_sin\"] = np.sin(2 * np.pi * df[\"month\"] / 12)\n",
    "    df[\"month_cos\"] = np.cos(2 * np.pi * df[\"month\"] / 12)\n",
    "\n",
    "    # List of generated features\n",
    "    predictors = [\n",
    "        \"day_of_week\",\n",
    "        \"day_of_month\",\n",
    "        \"week_of_year\",\n",
    "        \"month\",\n",
    "        \"year\",\n",
    "        \"quarter\",\n",
    "        \"is_month_end\",\n",
    "        \"is_month_start\",\n",
    "        \"day_of_week_sin\",\n",
    "        \"day_of_week_cos\",\n",
    "        \"month_sin\",\n",
    "        \"month_cos\",\n",
    "    ]\n",
    "\n",
    "    return df, predictors\n",
    "\n",
    "\n",
    "\n",
    "#################\n",
    "## Backtesting ##\n",
    "#################\n",
    "\n",
    "def predict(train, test, predictors, model):\n",
    "    model.fit(train[predictors], train[\"target\"])\n",
    "    preds = model.predict(test[predictors])\n",
    "    preds = pd.Series(preds, index=test.index, name=\"Predictions\")\n",
    "    combined = pd.concat([test[\"target\"], preds], axis=1)\n",
    "    return combined\n",
    "\n",
    "def backtest(data, model, predictors, start=1000, step=250):\n",
    "    all_predictions = []\n",
    "\n",
    "    for i in range(start, data.shape[0], step):\n",
    "        train = data.iloc[0:i].copy()\n",
    "        test = data.iloc[i:(i+step)].copy()\n",
    "        predictions = predict(train, test, predictors, model)\n",
    "        all_predictions.append(predictions)\n",
    "    \n",
    "    return pd.concat(all_predictions)\n",
    "\n",
    "\n",
    "#############\n",
    "## helpers ##\n",
    "#############\n",
    "\n",
    "def convert_date_format(date_string):\n",
    "    main_date_part = date_string.split(\" (\")[0]  \n",
    "    parsed_date = datetime.strptime(main_date_part, \"%b %d, %Y\") \n",
    "    return parsed_date.strftime(\"%Y-%m-%d\")\n"
   ]
  },
  {
   "cell_type": "markdown",
   "id": "53f94497",
   "metadata": {},
   "source": [
    "### Bring data"
   ]
  },
  {
   "cell_type": "code",
   "execution_count": 6,
   "id": "970b8741",
   "metadata": {},
   "outputs": [
    {
     "name": "stderr",
     "output_type": "stream",
     "text": [
      "[*********************100%***********************]  1 of 1 completed\n"
     ]
    },
    {
     "data": {
      "text/plain": [
       "(1246, 6)"
      ]
     },
     "execution_count": 6,
     "metadata": {},
     "output_type": "execute_result"
    }
   ],
   "source": [
    "fredapikey = \"2128c9d039210886d2dbd0e7b35ac1c1\"\n",
    "fred = Fred(api_key=fredapikey)\n",
    "\n",
    "start_date = '2020-01-01'\n",
    "end_date = '2024-12-30'\n",
    "# today_date = datetime.today().strftime('%Y-%m-%d')\n",
    "\n",
    "zf = yf.download('ZF=F', start=start_date,end=end_date)\n",
    "zf.reset_index(inplace=True)\n",
    "zf.head()\n",
    "\n",
    "df = zf.copy()\n",
    "df.drop(columns=['Adj Close'],inplace=True)\n",
    "df.columns = ['date','open','high','low','close','volume']\n",
    "df.shape"
   ]
  },
  {
   "cell_type": "markdown",
   "id": "cf8fd0c1",
   "metadata": {},
   "source": [
    "### Create Targets"
   ]
  },
  {
   "cell_type": "code",
   "execution_count": 7,
   "id": "b2502536",
   "metadata": {},
   "outputs": [
    {
     "data": {
      "text/html": [
       "<div>\n",
       "<style scoped>\n",
       "    .dataframe tbody tr th:only-of-type {\n",
       "        vertical-align: middle;\n",
       "    }\n",
       "\n",
       "    .dataframe tbody tr th {\n",
       "        vertical-align: top;\n",
       "    }\n",
       "\n",
       "    .dataframe thead th {\n",
       "        text-align: right;\n",
       "    }\n",
       "</style>\n",
       "<table border=\"1\" class=\"dataframe\">\n",
       "  <thead>\n",
       "    <tr style=\"text-align: right;\">\n",
       "      <th></th>\n",
       "      <th>date</th>\n",
       "      <th>open</th>\n",
       "      <th>high</th>\n",
       "      <th>low</th>\n",
       "      <th>close</th>\n",
       "      <th>volume</th>\n",
       "      <th>tomorrow</th>\n",
       "      <th>target</th>\n",
       "    </tr>\n",
       "  </thead>\n",
       "  <tbody>\n",
       "    <tr>\n",
       "      <th>0</th>\n",
       "      <td>2020-01-02</td>\n",
       "      <td>118.531250</td>\n",
       "      <td>118.851562</td>\n",
       "      <td>118.460938</td>\n",
       "      <td>118.664062</td>\n",
       "      <td>736650</td>\n",
       "      <td>119.062500</td>\n",
       "      <td>1</td>\n",
       "    </tr>\n",
       "    <tr>\n",
       "      <th>1</th>\n",
       "      <td>2020-01-03</td>\n",
       "      <td>118.679688</td>\n",
       "      <td>119.109375</td>\n",
       "      <td>118.671875</td>\n",
       "      <td>119.062500</td>\n",
       "      <td>868998</td>\n",
       "      <td>118.960938</td>\n",
       "      <td>0</td>\n",
       "    </tr>\n",
       "    <tr>\n",
       "      <th>2</th>\n",
       "      <td>2020-01-06</td>\n",
       "      <td>119.101562</td>\n",
       "      <td>119.210938</td>\n",
       "      <td>118.898438</td>\n",
       "      <td>118.960938</td>\n",
       "      <td>859162</td>\n",
       "      <td>118.921875</td>\n",
       "      <td>0</td>\n",
       "    </tr>\n",
       "    <tr>\n",
       "      <th>3</th>\n",
       "      <td>2020-01-07</td>\n",
       "      <td>118.953125</td>\n",
       "      <td>119.046875</td>\n",
       "      <td>118.906250</td>\n",
       "      <td>118.921875</td>\n",
       "      <td>746424</td>\n",
       "      <td>118.695312</td>\n",
       "      <td>0</td>\n",
       "    </tr>\n",
       "    <tr>\n",
       "      <th>4</th>\n",
       "      <td>2020-01-08</td>\n",
       "      <td>118.976562</td>\n",
       "      <td>119.523438</td>\n",
       "      <td>118.679688</td>\n",
       "      <td>118.695312</td>\n",
       "      <td>1225252</td>\n",
       "      <td>118.742188</td>\n",
       "      <td>1</td>\n",
       "    </tr>\n",
       "  </tbody>\n",
       "</table>\n",
       "</div>"
      ],
      "text/plain": [
       "        date        open        high         low       close   volume  \\\n",
       "0 2020-01-02  118.531250  118.851562  118.460938  118.664062   736650   \n",
       "1 2020-01-03  118.679688  119.109375  118.671875  119.062500   868998   \n",
       "2 2020-01-06  119.101562  119.210938  118.898438  118.960938   859162   \n",
       "3 2020-01-07  118.953125  119.046875  118.906250  118.921875   746424   \n",
       "4 2020-01-08  118.976562  119.523438  118.679688  118.695312  1225252   \n",
       "\n",
       "     tomorrow  target  \n",
       "0  119.062500       1  \n",
       "1  118.960938       0  \n",
       "2  118.921875       0  \n",
       "3  118.695312       0  \n",
       "4  118.742188       1  "
      ]
     },
     "execution_count": 7,
     "metadata": {},
     "output_type": "execute_result"
    }
   ],
   "source": [
    "df['tomorrow'] = df['close'].shift(-1)\n",
    "df['target'] = (df['tomorrow'] > df['close']).astype(int)\n",
    "df.head()"
   ]
  },
  {
   "cell_type": "markdown",
   "id": "046917ea",
   "metadata": {},
   "source": [
    "### Baseline Model"
   ]
  },
  {
   "cell_type": "code",
   "execution_count": 8,
   "id": "c02e59df",
   "metadata": {},
   "outputs": [
    {
     "data": {
      "text/html": [
       "<style>#sk-container-id-1 {color: black;}#sk-container-id-1 pre{padding: 0;}#sk-container-id-1 div.sk-toggleable {background-color: white;}#sk-container-id-1 label.sk-toggleable__label {cursor: pointer;display: block;width: 100%;margin-bottom: 0;padding: 0.3em;box-sizing: border-box;text-align: center;}#sk-container-id-1 label.sk-toggleable__label-arrow:before {content: \"▸\";float: left;margin-right: 0.25em;color: #696969;}#sk-container-id-1 label.sk-toggleable__label-arrow:hover:before {color: black;}#sk-container-id-1 div.sk-estimator:hover label.sk-toggleable__label-arrow:before {color: black;}#sk-container-id-1 div.sk-toggleable__content {max-height: 0;max-width: 0;overflow: hidden;text-align: left;background-color: #f0f8ff;}#sk-container-id-1 div.sk-toggleable__content pre {margin: 0.2em;color: black;border-radius: 0.25em;background-color: #f0f8ff;}#sk-container-id-1 input.sk-toggleable__control:checked~div.sk-toggleable__content {max-height: 200px;max-width: 100%;overflow: auto;}#sk-container-id-1 input.sk-toggleable__control:checked~label.sk-toggleable__label-arrow:before {content: \"▾\";}#sk-container-id-1 div.sk-estimator input.sk-toggleable__control:checked~label.sk-toggleable__label {background-color: #d4ebff;}#sk-container-id-1 div.sk-label input.sk-toggleable__control:checked~label.sk-toggleable__label {background-color: #d4ebff;}#sk-container-id-1 input.sk-hidden--visually {border: 0;clip: rect(1px 1px 1px 1px);clip: rect(1px, 1px, 1px, 1px);height: 1px;margin: -1px;overflow: hidden;padding: 0;position: absolute;width: 1px;}#sk-container-id-1 div.sk-estimator {font-family: monospace;background-color: #f0f8ff;border: 1px dotted black;border-radius: 0.25em;box-sizing: border-box;margin-bottom: 0.5em;}#sk-container-id-1 div.sk-estimator:hover {background-color: #d4ebff;}#sk-container-id-1 div.sk-parallel-item::after {content: \"\";width: 100%;border-bottom: 1px solid gray;flex-grow: 1;}#sk-container-id-1 div.sk-label:hover label.sk-toggleable__label {background-color: #d4ebff;}#sk-container-id-1 div.sk-serial::before {content: \"\";position: absolute;border-left: 1px solid gray;box-sizing: border-box;top: 0;bottom: 0;left: 50%;z-index: 0;}#sk-container-id-1 div.sk-serial {display: flex;flex-direction: column;align-items: center;background-color: white;padding-right: 0.2em;padding-left: 0.2em;position: relative;}#sk-container-id-1 div.sk-item {position: relative;z-index: 1;}#sk-container-id-1 div.sk-parallel {display: flex;align-items: stretch;justify-content: center;background-color: white;position: relative;}#sk-container-id-1 div.sk-item::before, #sk-container-id-1 div.sk-parallel-item::before {content: \"\";position: absolute;border-left: 1px solid gray;box-sizing: border-box;top: 0;bottom: 0;left: 50%;z-index: -1;}#sk-container-id-1 div.sk-parallel-item {display: flex;flex-direction: column;z-index: 1;position: relative;background-color: white;}#sk-container-id-1 div.sk-parallel-item:first-child::after {align-self: flex-end;width: 50%;}#sk-container-id-1 div.sk-parallel-item:last-child::after {align-self: flex-start;width: 50%;}#sk-container-id-1 div.sk-parallel-item:only-child::after {width: 0;}#sk-container-id-1 div.sk-dashed-wrapped {border: 1px dashed gray;margin: 0 0.4em 0.5em 0.4em;box-sizing: border-box;padding-bottom: 0.4em;background-color: white;}#sk-container-id-1 div.sk-label label {font-family: monospace;font-weight: bold;display: inline-block;line-height: 1.2em;}#sk-container-id-1 div.sk-label-container {text-align: center;}#sk-container-id-1 div.sk-container {/* jupyter's `normalize.less` sets `[hidden] { display: none; }` but bootstrap.min.css set `[hidden] { display: none !important; }` so we also need the `!important` here to be able to override the default hidden behavior on the sphinx rendered scikit-learn.org. See: https://github.com/scikit-learn/scikit-learn/issues/21755 */display: inline-block !important;position: relative;}#sk-container-id-1 div.sk-text-repr-fallback {display: none;}</style><div id=\"sk-container-id-1\" class=\"sk-top-container\"><div class=\"sk-text-repr-fallback\"><pre>RandomForestClassifier(random_state=1)</pre><b>In a Jupyter environment, please rerun this cell to show the HTML representation or trust the notebook. <br />On GitHub, the HTML representation is unable to render, please try loading this page with nbviewer.org.</b></div><div class=\"sk-container\" hidden><div class=\"sk-item\"><div class=\"sk-estimator sk-toggleable\"><input class=\"sk-toggleable__control sk-hidden--visually\" id=\"sk-estimator-id-1\" type=\"checkbox\" checked><label for=\"sk-estimator-id-1\" class=\"sk-toggleable__label sk-toggleable__label-arrow\">RandomForestClassifier</label><div class=\"sk-toggleable__content\"><pre>RandomForestClassifier(random_state=1)</pre></div></div></div></div></div>"
      ],
      "text/plain": [
       "RandomForestClassifier(random_state=1)"
      ]
     },
     "execution_count": 8,
     "metadata": {},
     "output_type": "execute_result"
    }
   ],
   "source": [
    "model = RandomForestClassifier(random_state=1)\n",
    "\n",
    "train = df.iloc[:-300]\n",
    "test = df.iloc[-300:]\n",
    "\n",
    "predictors = [\"close\", \"volume\", \"open\", \"high\", \"low\"]\n",
    "model.fit(train[predictors], train[\"target\"])"
   ]
  },
  {
   "cell_type": "code",
   "execution_count": 9,
   "id": "90a50297",
   "metadata": {},
   "outputs": [
    {
     "data": {
      "text/plain": [
       "<AxesSubplot: >"
      ]
     },
     "execution_count": 9,
     "metadata": {},
     "output_type": "execute_result"
    },
    {
     "data": {
      "image/png": "[encoded data removed]",
      "text/plain": [
       "<Figure size 640x480 with 1 Axes>"
      ]
     },
     "metadata": {},
     "output_type": "display_data"
    }
   ],
   "source": [
    "test['target'].hist()"
   ]
  },
  {
   "cell_type": "code",
   "execution_count": 10,
   "id": "4a4e9b28",
   "metadata": {},
   "outputs": [
    {
     "data": {
      "text/plain": [
       "53.90625"
      ]
     },
     "execution_count": 10,
     "metadata": {},
     "output_type": "execute_result"
    }
   ],
   "source": [
    "preds = model.predict(test[predictors])\n",
    "preds = pd.Series(preds, index=test.index)\n",
    "precision_score(test[\"target\"], preds) * 100"
   ]
  },
  {
   "cell_type": "code",
   "execution_count": 22,
   "id": "4ce62353",
   "metadata": {},
   "outputs": [
    {
     "data": {
      "text/html": [
       "<div>\n",
       "<style scoped>\n",
       "    .dataframe tbody tr th:only-of-type {\n",
       "        vertical-align: middle;\n",
       "    }\n",
       "\n",
       "    .dataframe tbody tr th {\n",
       "        vertical-align: top;\n",
       "    }\n",
       "\n",
       "    .dataframe thead th {\n",
       "        text-align: right;\n",
       "    }\n",
       "</style>\n",
       "<table border=\"1\" class=\"dataframe\">\n",
       "  <thead>\n",
       "    <tr style=\"text-align: right;\">\n",
       "      <th></th>\n",
       "      <th>target</th>\n",
       "      <th>prediction</th>\n",
       "    </tr>\n",
       "  </thead>\n",
       "  <tbody>\n",
       "    <tr>\n",
       "      <th>946</th>\n",
       "      <td>0</td>\n",
       "      <td>0</td>\n",
       "    </tr>\n",
       "    <tr>\n",
       "      <th>947</th>\n",
       "      <td>1</td>\n",
       "      <td>1</td>\n",
       "    </tr>\n",
       "    <tr>\n",
       "      <th>948</th>\n",
       "      <td>0</td>\n",
       "      <td>0</td>\n",
       "    </tr>\n",
       "  </tbody>\n",
       "</table>\n",
       "</div>"
      ],
      "text/plain": [
       "     target  prediction\n",
       "946       0           0\n",
       "947       1           1\n",
       "948       0           0"
      ]
     },
     "execution_count": 22,
     "metadata": {},
     "output_type": "execute_result"
    }
   ],
   "source": [
    "predictions = pd.DataFrame({\n",
    "    'target': test['target'],\n",
    "    'prediction':preds\n",
    "})\n",
    "\n",
    "predictions.head(3)"
   ]
  },
  {
   "cell_type": "code",
   "execution_count": 26,
   "id": "6ef36dde",
   "metadata": {},
   "outputs": [
    {
     "data": {
      "text/plain": [
       "0.46"
      ]
     },
     "execution_count": 26,
     "metadata": {},
     "output_type": "execute_result"
    }
   ],
   "source": [
    "predictions.query('target ==1 and prediction ==1').shape[0]/ test[test['target'] == 1].shape[0]"
   ]
  },
  {
   "cell_type": "markdown",
   "id": "3184e365",
   "metadata": {},
   "source": [
    "### Backtesting"
   ]
  },
  {
   "cell_type": "code",
   "execution_count": 28,
   "id": "9fc3c4fa",
   "metadata": {},
   "outputs": [],
   "source": [
    "predictions = backtest(df, model, predictors)\n"
   ]
  },
  {
   "cell_type": "code",
   "execution_count": 29,
   "id": "85436147",
   "metadata": {},
   "outputs": [
    {
     "data": {
      "text/plain": [
       "0    124\n",
       "1    122\n",
       "Name: Predictions, dtype: int64"
      ]
     },
     "execution_count": 29,
     "metadata": {},
     "output_type": "execute_result"
    }
   ],
   "source": [
    "predictions[\"Predictions\"].value_counts()\n"
   ]
  },
  {
   "cell_type": "code",
   "execution_count": 30,
   "id": "e7e70bbf",
   "metadata": {},
   "outputs": [
    {
     "data": {
      "text/plain": [
       "0.5573770491803278"
      ]
     },
     "execution_count": 30,
     "metadata": {},
     "output_type": "execute_result"
    }
   ],
   "source": [
    "precision_score(predictions[\"target\"], predictions[\"Predictions\"])\n"
   ]
  },
  {
   "cell_type": "code",
   "execution_count": 31,
   "id": "df4b608a",
   "metadata": {},
   "outputs": [
    {
     "data": {
      "text/plain": [
       "0    0.512195\n",
       "1    0.487805\n",
       "Name: target, dtype: float64"
      ]
     },
     "execution_count": 31,
     "metadata": {},
     "output_type": "execute_result"
    }
   ],
   "source": [
    "predictions[\"target\"].value_counts() / predictions.shape[0]\n"
   ]
  },
  {
   "cell_type": "markdown",
   "id": "b9455362",
   "metadata": {},
   "source": [
    "### Macro Data "
   ]
  },
  {
   "cell_type": "code",
   "execution_count": 4,
   "id": "e3e29001",
   "metadata": {},
   "outputs": [
    {
     "ename": "NameError",
     "evalue": "name 'convert_date_format' is not defined",
     "output_type": "error",
     "traceback": [
      "\u001b[0;31m---------------------------------------------------------------------------\u001b[0m",
      "\u001b[0;31mNameError\u001b[0m                                 Traceback (most recent call last)",
      "Cell \u001b[0;32mIn[4], line 5\u001b[0m\n\u001b[1;32m      3\u001b[0m un_rate[\u001b[38;5;124m'\u001b[39m\u001b[38;5;124mun_announcement\u001b[39m\u001b[38;5;124m'\u001b[39m] \u001b[38;5;241m=\u001b[39m \u001b[38;5;241m1\u001b[39m\n\u001b[1;32m      4\u001b[0m un_rate\u001b[38;5;241m.\u001b[39mcolumns \u001b[38;5;241m=\u001b[39m [\u001b[38;5;124m'\u001b[39m\u001b[38;5;124mdate\u001b[39m\u001b[38;5;124m'\u001b[39m,\u001b[38;5;124m'\u001b[39m\u001b[38;5;124mtime\u001b[39m\u001b[38;5;124m'\u001b[39m,\u001b[38;5;124m'\u001b[39m\u001b[38;5;124mactual\u001b[39m\u001b[38;5;124m'\u001b[39m,\u001b[38;5;124m'\u001b[39m\u001b[38;5;124mforecast\u001b[39m\u001b[38;5;124m'\u001b[39m,\u001b[38;5;124m'\u001b[39m\u001b[38;5;124mprevious\u001b[39m\u001b[38;5;124m'\u001b[39m,\u001b[38;5;124m'\u001b[39m\u001b[38;5;124mun_announcement\u001b[39m\u001b[38;5;124m'\u001b[39m]\n\u001b[0;32m----> 5\u001b[0m un_rate[\u001b[38;5;124m'\u001b[39m\u001b[38;5;124mdate\u001b[39m\u001b[38;5;124m'\u001b[39m] \u001b[38;5;241m=\u001b[39m un_rate[\u001b[38;5;124m'\u001b[39m\u001b[38;5;124mdate\u001b[39m\u001b[38;5;124m'\u001b[39m] \u001b[38;5;241m.\u001b[39mapply(convert_date_format)\n\u001b[1;32m      6\u001b[0m un_rate[\u001b[38;5;124m'\u001b[39m\u001b[38;5;124munempl_change\u001b[39m\u001b[38;5;124m'\u001b[39m] \u001b[38;5;241m=\u001b[39m un_rate[\u001b[38;5;124m'\u001b[39m\u001b[38;5;124mforecast\u001b[39m\u001b[38;5;124m'\u001b[39m] \u001b[38;5;241m-\u001b[39m un_rate[\u001b[38;5;124m'\u001b[39m\u001b[38;5;124mprevious\u001b[39m\u001b[38;5;124m'\u001b[39m]\n\u001b[1;32m      7\u001b[0m \u001b[38;5;28;01mdel\u001b[39;00m un_rate[\u001b[38;5;124m'\u001b[39m\u001b[38;5;124mtime\u001b[39m\u001b[38;5;124m'\u001b[39m], un_rate[\u001b[38;5;124m'\u001b[39m\u001b[38;5;124mprevious\u001b[39m\u001b[38;5;124m'\u001b[39m], un_rate[\u001b[38;5;124m'\u001b[39m\u001b[38;5;124mforecast\u001b[39m\u001b[38;5;124m'\u001b[39m], un_rate[\u001b[38;5;124m'\u001b[39m\u001b[38;5;124mactual\u001b[39m\u001b[38;5;124m'\u001b[39m]\n",
      "\u001b[0;31mNameError\u001b[0m: name 'convert_date_format' is not defined"
     ]
    }
   ],
   "source": [
    "### Uneployment Rate ###\n",
    "un_rate = pd.read_excel(\"Low frequency data.xlsx\",sheet_name=\"Unemployment Rate\")\n",
    "un_rate['un_announcement'] = 1\n",
    "un_rate.columns = ['date','time','actual','forecast','previous','un_announcement']\n",
    "un_rate['date'] = un_rate['date'] .apply(convert_date_format)\n",
    "un_rate['unempl_change'] = un_rate['forecast'] - un_rate['previous']\n",
    "del un_rate['time'], un_rate['previous'], un_rate['forecast'], un_rate['actual']\n",
    "un_rate.to_csv('unemployment.csv',index_label=False)\n",
    "\n",
    "### CPI ###\n",
    "cpi = pd.read_excel(\"Low frequency data.xlsx\",sheet_name=\"CPI\")\n",
    "cpi['cpi_announcement'] = 1\n",
    "cpi.columns = ['date','time','actual','forecast','previous','cpi_announcement']\n",
    "cpi['date'] = cpi['date'].apply(convert_date_format)\n",
    "cpi['cpi_change'] = cpi['forecast'] - cpi['previous']\n",
    "del cpi['time'], cpi['previous'], cpi['forecast'], cpi['actual']\n",
    "cpi.to_csv('cpi.csv',index_label=False)\n",
    "\n",
    "### Fed rates ### \n",
    "interest_rates = pd.read_excel('Low frequency data.xlsx', sheet_name='Fed Interest Rate')\n",
    "interest_rates['interest_announcement'] = 1\n",
    "interest_rates.columns = ['date','time','actual','forecast','previous','interest_announcement']\n",
    "interest_rates['interest_change'] = interest_rates['forecast'] - interest_rates['previous']\n",
    "del interest_rates['time'],interest_rates['previous'], interest_rates['forecast'], interest_rates['actual']\n",
    "interest_rates.to_csv('interest_rate.csv',index_label=False)"
   ]
  },
  {
   "cell_type": "markdown",
   "id": "57061366",
   "metadata": {},
   "source": [
    "### Feature Addition"
   ]
  },
  {
   "cell_type": "code",
   "execution_count": null,
   "id": "8ac68bd3",
   "metadata": {},
   "outputs": [],
   "source": []
  },
  {
   "cell_type": "markdown",
   "id": "39f3c093",
   "metadata": {},
   "source": [
    "### Feature Selection"
   ]
  },
  {
   "cell_type": "code",
   "execution_count": null,
   "id": "61d8b527",
   "metadata": {},
   "outputs": [],
   "source": []
  },
  {
   "cell_type": "markdown",
   "id": "65960727",
   "metadata": {},
   "source": [
    "### Evaluation"
   ]
  },
  {
   "cell_type": "code",
   "execution_count": null,
   "id": "2ee5372b",
   "metadata": {},
   "outputs": [],
   "source": []
  }
 ],
 "metadata": {
  "kernelspec": {
   "display_name": "Python 3 (ipykernel)",
   "language": "python",
   "name": "python3"
  },
  "language_info": {
   "codemirror_mode": {
    "name": "ipython",
    "version": 3
   },
   "file_extension": ".py",
   "mimetype": "text/x-python",
   "name": "python",
   "nbconvert_exporter": "python",
   "pygments_lexer": "ipython3",
   "version": "3.11.1"
  }
 },
 "nbformat": 4,
 "nbformat_minor": 5
}

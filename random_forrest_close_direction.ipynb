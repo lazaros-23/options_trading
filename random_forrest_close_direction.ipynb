{
 "cells": [
  {
   "cell_type": "markdown",
   "id": "c94e725d",
   "metadata": {},
   "source": [
    "### Import libraries"
   ]
  },
  {
   "cell_type": "code",
   "execution_count": 9,
   "id": "36e538bf",
   "metadata": {},
   "outputs": [],
   "source": [
    "import pandas as pd\n",
    "import numpy as np\n",
    "import yfinance as yf\n",
    "\n",
    "from datetime import datetime\n",
    "import matplotlib.pyplot as plt\n",
    "\n",
    "from fredapi import Fred\n",
    "\n",
    "from sklearn.ensemble import RandomForestClassifier\n",
    "from sklearn.model_selection import GridSearchCV\n",
    "from sklearn.metrics import precision_score,accuracy_score\n",
    "from sklearn.model_selection import TimeSeriesSplit"
   ]
  },
  {
   "cell_type": "markdown",
   "id": "aa3f3e46",
   "metadata": {},
   "source": [
    "### Helpers"
   ]
  },
  {
   "cell_type": "code",
   "execution_count": 10,
   "id": "af77e5f9",
   "metadata": {},
   "outputs": [],
   "source": [
    "#########################\n",
    "## Feature engineering ##\n",
    "#########################\n",
    "\n",
    "def create_ohlc_features(df, horizons=[2, 5, 10, 15, 20]):\n",
    "    predictors = []\n",
    "\n",
    "    for horizon in horizons:\n",
    "        if len(df) < horizon:  # Skip if data size is smaller than the horizon\n",
    "            continue\n",
    "\n",
    "        # Rolling averages and ratios\n",
    "        rolling_averages = df.rolling(horizon).mean()\n",
    "        df[f\"Close_Ratio_{horizon}\"] = df[\"close\"] / rolling_averages[\"close\"]\n",
    "\n",
    "        # Trend (cumulative sum of target over horizon)\n",
    "        df[f\"Trend_{horizon}\"] = df[\"target\"].shift(1).rolling(horizon).sum()\n",
    "\n",
    "        # Volatility (rolling standard deviation)\n",
    "        df[f\"Volatility_{horizon}\"] = df[\"close\"].rolling(horizon).std()\n",
    "\n",
    "        # Momentum (difference between current and lagged price)\n",
    "        df[f\"Momentum_{horizon}\"] = df[\"close\"] - df[\"close\"].shift(horizon)\n",
    "\n",
    "        # Exponential Moving Average (EMA)\n",
    "        df[f\"EMA_{horizon}\"] = df[\"close\"].ewm(span=horizon, adjust=False).mean()\n",
    "\n",
    "        # Relative Strength Index (RSI)\n",
    "        delta = df[\"close\"].diff()\n",
    "        gain = (delta.where(delta > 0, 0)).rolling(horizon).mean()\n",
    "        loss = (-delta.where(delta < 0, 0)).rolling(horizon).mean()\n",
    "        df[f\"RSI_{horizon}\"] = 100 - (100 / (1 + gain / loss))\n",
    "\n",
    "        # Rolling skewness and kurtosis (to capture distribution shape)\n",
    "#         df[f\"Skewness_{horizon}\"] = df[\"close\"].rolling(horizon).skew()\n",
    "#         df[f\"Kurtosis_{horizon}\"] = df[\"close\"].rolling(horizon).kurt()\n",
    "\n",
    "        # Bollinger Bands (upper and lower bounds)\n",
    "        rolling_std = df[\"close\"].rolling(horizon).std()\n",
    "        df[f\"Bollinger_Upper_{horizon}\"] = rolling_averages[\"close\"] + 2 * rolling_std\n",
    "        df[f\"Bollinger_Lower_{horizon}\"] = rolling_averages[\"close\"] - 2 * rolling_std\n",
    "\n",
    "        # Cumulative Return\n",
    "        df[f\"Cumulative_Return_{horizon}\"] = df[\"close\"].pct_change().rolling(horizon).sum()\n",
    "\n",
    "        # Add features to the predictor list\n",
    "        predictors += [\n",
    "            f\"Close_Ratio_{horizon}\",\n",
    "            f\"Trend_{horizon}\",\n",
    "            f\"Volatility_{horizon}\",\n",
    "            f\"Momentum_{horizon}\",\n",
    "            f\"EMA_{horizon}\",\n",
    "            f\"RSI_{horizon}\",\n",
    "#             f\"Skewness_{horizon}\",\n",
    "#             f\"Kurtosis_{horizon}\",\n",
    "            f\"Bollinger_Upper_{horizon}\",\n",
    "            f\"Bollinger_Lower_{horizon}\",\n",
    "            f\"Cumulative_Return_{horizon}\",\n",
    "        ]\n",
    "\n",
    "    # Drop NA rows introduced by rolling and shifting, but only drop rows with all NaNs\n",
    "    df = df.dropna(subset=predictors, how=\"all\")\n",
    "\n",
    "    return df, predictors\n",
    "\n",
    "\n",
    "\n",
    "def create_calendar_features(df, date_col):\n",
    " \n",
    "    # Ensure the date column is in datetime format\n",
    "    df[date_col] = pd.to_datetime(df[date_col])\n",
    "\n",
    "    # Calendar features\n",
    "    df[\"day_of_week\"] = df[date_col].dt.dayofweek\n",
    "    df[\"day_of_month\"] = df[date_col].dt.day\n",
    "    df[\"week_of_year\"] = df[date_col].dt.isocalendar().week\n",
    "    df[\"month\"] = df[date_col].dt.month\n",
    "    df[\"year\"] = df[date_col].dt.year\n",
    "    df[\"quarter\"] = df[date_col].dt.quarter\n",
    "    df[\"is_month_end\"] = df[date_col].dt.is_month_end.astype(int)\n",
    "    df[\"is_month_start\"] = df[date_col].dt.is_month_start.astype(int)\n",
    "\n",
    "    # Cyclical encoding\n",
    "    df[\"day_of_week_sin\"] = np.sin(2 * np.pi * df[\"day_of_week\"] / 7)\n",
    "    df[\"day_of_week_cos\"] = np.cos(2 * np.pi * df[\"day_of_week\"] / 7)\n",
    "    df[\"month_sin\"] = np.sin(2 * np.pi * df[\"month\"] / 12)\n",
    "    df[\"month_cos\"] = np.cos(2 * np.pi * df[\"month\"] / 12)\n",
    "\n",
    "    # List of generated features\n",
    "    predictors = [\n",
    "        \"day_of_week\",\n",
    "        \"day_of_month\",\n",
    "        \"week_of_year\",\n",
    "        \"month\",\n",
    "        \"year\",\n",
    "        \"quarter\",\n",
    "        \"is_month_end\",\n",
    "        \"is_month_start\",\n",
    "        \"day_of_week_sin\",\n",
    "        \"day_of_week_cos\",\n",
    "        \"month_sin\",\n",
    "        \"month_cos\",\n",
    "    ]\n",
    "\n",
    "    return df, predictors\n",
    "\n",
    "\n",
    "\n",
    "\n",
    "#################\n",
    "## Backtesting ##\n",
    "#################\n",
    "\n",
    "def predict(train, test, predictors, model):\n",
    "    model.fit(train[predictors], train[\"target\"])\n",
    "    preds = model.predict(test[predictors])\n",
    "    preds = pd.Series(preds, index=test.index, name=\"Predictions\")\n",
    "    combined = pd.concat([test[\"target\"], preds], axis=1)\n",
    "    return combined\n",
    "\n",
    "def backtest(data, model, predictors, start=500, step=50):\n",
    "    all_predictions = []\n",
    "\n",
    "    for i in range(start, data.shape[0], step):\n",
    "        train = data.iloc[0:i].copy()\n",
    "        test = data.iloc[i:(i+step)].copy()\n",
    "        predictions = predict(train, test, predictors, model)\n",
    "        all_predictions.append(predictions)\n",
    "    \n",
    "    return pd.concat(all_predictions)\n",
    "\n",
    "\n",
    "#############\n",
    "## helpers ##\n",
    "#############\n",
    "\n",
    "def convert_date_format(date_string):\n",
    "    main_date_part = date_string.split(\" (\")[0]  \n",
    "    parsed_date = datetime.strptime(main_date_part, \"%b %d, %Y\")\n",
    "    return pd.to_datetime(parsed_date.strftime(\"%Y-%m-%d\"))\n"
   ]
  },
  {
   "cell_type": "markdown",
   "id": "53f94497",
   "metadata": {},
   "source": [
    "### Bring data"
   ]
  },
  {
   "cell_type": "code",
   "execution_count": 11,
   "id": "970b8741",
   "metadata": {},
   "outputs": [
    {
     "name": "stderr",
     "output_type": "stream",
     "text": [
      "[*********************100%***********************]  1 of 1 completed\n"
     ]
    },
    {
     "data": {
      "text/plain": [
       "(390, 6)"
      ]
     },
     "execution_count": 11,
     "metadata": {},
     "output_type": "execute_result"
    }
   ],
   "source": [
    "fredapikey = \"2128c9d039210886d2dbd0e7b35ac1c1\"\n",
    "fred = Fred(api_key=fredapikey)\n",
    "\n",
    "start_date = '2023-06-01'\n",
    "end_date = '2024-12-30'\n",
    "# today_date = datetime.today().strftime('%Y-%m-%d')\n",
    "\n",
    "df = yf.download('ZF=F', start=start_date,end=end_date)\n",
    "df.reset_index(inplace=True)\n",
    "\n",
    "df.drop(columns=['Adj Close'],inplace=True)\n",
    "df.columns = ['date','open','high','low','close','volume']\n",
    "df['date'] = pd.to_datetime(df['date'])\n",
    "df.shape"
   ]
  },
  {
   "cell_type": "markdown",
   "id": "cf8fd0c1",
   "metadata": {},
   "source": [
    "### Create Targets"
   ]
  },
  {
   "cell_type": "code",
   "execution_count": 12,
   "id": "b2502536",
   "metadata": {},
   "outputs": [
    {
     "data": {
      "text/html": [
       "<div>\n",
       "<style scoped>\n",
       "    .dataframe tbody tr th:only-of-type {\n",
       "        vertical-align: middle;\n",
       "    }\n",
       "\n",
       "    .dataframe tbody tr th {\n",
       "        vertical-align: top;\n",
       "    }\n",
       "\n",
       "    .dataframe thead th {\n",
       "        text-align: right;\n",
       "    }\n",
       "</style>\n",
       "<table border=\"1\" class=\"dataframe\">\n",
       "  <thead>\n",
       "    <tr style=\"text-align: right;\">\n",
       "      <th></th>\n",
       "      <th>date</th>\n",
       "      <th>open</th>\n",
       "      <th>high</th>\n",
       "      <th>low</th>\n",
       "      <th>close</th>\n",
       "      <th>volume</th>\n",
       "      <th>tomorrow</th>\n",
       "      <th>target</th>\n",
       "    </tr>\n",
       "  </thead>\n",
       "  <tbody>\n",
       "    <tr>\n",
       "      <th>0</th>\n",
       "      <td>2023-06-01</td>\n",
       "      <td>108.460938</td>\n",
       "      <td>108.960938</td>\n",
       "      <td>108.195312</td>\n",
       "      <td>108.703125</td>\n",
       "      <td>27750</td>\n",
       "      <td>108.070312</td>\n",
       "      <td>0</td>\n",
       "    </tr>\n",
       "    <tr>\n",
       "      <th>1</th>\n",
       "      <td>2023-06-02</td>\n",
       "      <td>108.718750</td>\n",
       "      <td>108.718750</td>\n",
       "      <td>108.007812</td>\n",
       "      <td>108.070312</td>\n",
       "      <td>27467</td>\n",
       "      <td>108.132812</td>\n",
       "      <td>1</td>\n",
       "    </tr>\n",
       "    <tr>\n",
       "      <th>2</th>\n",
       "      <td>2023-06-05</td>\n",
       "      <td>107.976562</td>\n",
       "      <td>108.304688</td>\n",
       "      <td>107.734375</td>\n",
       "      <td>108.132812</td>\n",
       "      <td>6951</td>\n",
       "      <td>108.031250</td>\n",
       "      <td>0</td>\n",
       "    </tr>\n",
       "    <tr>\n",
       "      <th>3</th>\n",
       "      <td>2023-06-06</td>\n",
       "      <td>108.304688</td>\n",
       "      <td>108.304688</td>\n",
       "      <td>108.031250</td>\n",
       "      <td>108.031250</td>\n",
       "      <td>3653</td>\n",
       "      <td>107.765625</td>\n",
       "      <td>0</td>\n",
       "    </tr>\n",
       "    <tr>\n",
       "      <th>4</th>\n",
       "      <td>2023-06-07</td>\n",
       "      <td>108.132812</td>\n",
       "      <td>108.132812</td>\n",
       "      <td>107.625000</td>\n",
       "      <td>107.765625</td>\n",
       "      <td>1785</td>\n",
       "      <td>108.031250</td>\n",
       "      <td>1</td>\n",
       "    </tr>\n",
       "  </tbody>\n",
       "</table>\n",
       "</div>"
      ],
      "text/plain": [
       "        date        open        high         low       close  volume  \\\n",
       "0 2023-06-01  108.460938  108.960938  108.195312  108.703125   27750   \n",
       "1 2023-06-02  108.718750  108.718750  108.007812  108.070312   27467   \n",
       "2 2023-06-05  107.976562  108.304688  107.734375  108.132812    6951   \n",
       "3 2023-06-06  108.304688  108.304688  108.031250  108.031250    3653   \n",
       "4 2023-06-07  108.132812  108.132812  107.625000  107.765625    1785   \n",
       "\n",
       "     tomorrow  target  \n",
       "0  108.070312       0  \n",
       "1  108.132812       1  \n",
       "2  108.031250       0  \n",
       "3  107.765625       0  \n",
       "4  108.031250       1  "
      ]
     },
     "execution_count": 12,
     "metadata": {},
     "output_type": "execute_result"
    }
   ],
   "source": [
    "df['tomorrow'] = df['close'].shift(-1)\n",
    "df['target'] = (df['tomorrow'] > df['close']).astype(int)\n",
    "df.head()"
   ]
  },
  {
   "cell_type": "markdown",
   "id": "046917ea",
   "metadata": {},
   "source": [
    "### Baseline Model"
   ]
  },
  {
   "cell_type": "code",
   "execution_count": null,
   "id": "c02e59df",
   "metadata": {},
   "outputs": [],
   "source": [
    "model = RandomForestClassifier(random_state=1)\n",
    "\n",
    "train = df.iloc[:-300]\n",
    "test = df.iloc[-300:]\n",
    "\n",
    "predictors = [\"close\", \"volume\", \"open\", \"high\", \"low\"]\n",
    "model.fit(train[predictors], train[\"target\"])"
   ]
  },
  {
   "cell_type": "code",
   "execution_count": null,
   "id": "90a50297",
   "metadata": {},
   "outputs": [],
   "source": [
    "test['target'].hist()"
   ]
  },
  {
   "cell_type": "code",
   "execution_count": null,
   "id": "4a4e9b28",
   "metadata": {},
   "outputs": [],
   "source": [
    "preds = model.predict(test[predictors])\n",
    "preds = pd.Series(preds, index=test.index)\n",
    "precision_score(test[\"target\"], preds) * 100"
   ]
  },
  {
   "cell_type": "code",
   "execution_count": null,
   "id": "3329ed6c",
   "metadata": {},
   "outputs": [],
   "source": [
    "predictions = pd.DataFrame({\n",
    "    'target': test['target'],\n",
    "    'prediction':preds\n",
    "})\n",
    "\n",
    "predictions.head(3)"
   ]
  },
  {
   "cell_type": "code",
   "execution_count": null,
   "id": "07e74eb3",
   "metadata": {},
   "outputs": [],
   "source": [
    "predictions.query('target ==1 and prediction ==1').shape[0]/ test[test['target'] == 1].shape[0]"
   ]
  },
  {
   "cell_type": "markdown",
   "id": "3184e365",
   "metadata": {},
   "source": [
    "### Backtesting"
   ]
  },
  {
   "cell_type": "code",
   "execution_count": null,
   "id": "9fc3c4fa",
   "metadata": {},
   "outputs": [],
   "source": [
    "predictions = backtest(df, model, predictors)\n",
    "precision_score(predictions[\"target\"], predictions[\"Predictions\"])\n",
    "predictions[\"target\"].value_counts() / predictions.shape[0]\n"
   ]
  },
  {
   "cell_type": "markdown",
   "id": "b9455362",
   "metadata": {},
   "source": [
    "### Macro Data "
   ]
  },
  {
   "cell_type": "code",
   "execution_count": 5,
   "id": "e3e29001",
   "metadata": {},
   "outputs": [],
   "source": [
    "### Uneployment Rate ###\n",
    "\n",
    "un_rate = pd.read_excel(\"Low frequency data.xlsx\",sheet_name=\"Unemployment Rate\")\n",
    "un_rate['un_announcement'] = 1\n",
    "un_rate.columns = ['date','time','actual','forecast','previous','un_announcement']\n",
    "un_rate['date'] = un_rate['date'] .apply(convert_date_format)\n",
    "un_rate['unempl_change'] = un_rate['forecast'] - un_rate['previous']\n",
    "un_rate[\"next_announcement_date\"] = un_rate[\"date\"].shift(-1)\n",
    "un_rate[\"days_until_next_announcement\"] = (un_rate[\"next_announcement_date\"] - un_rate[\"date\"]).dt.days\n",
    "un_rate.drop(columns=['time','previous','forecast','actual','next_announcement_date'],inplace=True)\n",
    "\n",
    "### CPI ###\n",
    "cpi = pd.read_excel(\"Low frequency data.xlsx\",sheet_name=\"CPI\")\n",
    "cpi['cpi_announcement'] = 1\n",
    "cpi.columns = ['date','time','actual','forecast','previous','cpi_announcement']\n",
    "cpi['date'] = cpi['date'].apply(convert_date_format)\n",
    "cpi['cpi_change'] = cpi['forecast'] - cpi['previous']\n",
    "cpi[\"next_announcement_date\"] = cpi[\"date\"].shift(-1)\n",
    "cpi[\"days_until_next_announcement\"] = (cpi[\"next_announcement_date\"] - cpi[\"date\"]).dt.days\n",
    "cpi.drop(columns=['time','previous','forecast','actual','next_announcement_date'],inplace=True)\n",
    "\n",
    "### Fed rates ### \n",
    "interest_rates = pd.read_excel('Low frequency data.xlsx', sheet_name='Fed Interest Rate')\n",
    "interest_rates['interest_announcement'] = 1\n",
    "interest_rates.columns = ['date','time','actual','forecast','previous','interest_announcement']\n",
    "interest_rates['interest_change'] = interest_rates['forecast'] - interest_rates['previous']\n",
    "interest_rates[\"next_announcement_date\"] = interest_rates[\"date\"].shift(1)\n",
    "interest_rates[\"days_until_next_announcement\"] = (interest_rates[\"next_announcement_date\"] - interest_rates[\"date\"]).dt.days\n",
    "interest_rates.drop(columns=['time','previous','forecast','actual'],inplace=True)\n"
   ]
  },
  {
   "cell_type": "code",
   "execution_count": 6,
   "id": "ce2e38bc",
   "metadata": {},
   "outputs": [
    {
     "data": {
      "text/html": [
       "<div>\n",
       "<style scoped>\n",
       "    .dataframe tbody tr th:only-of-type {\n",
       "        vertical-align: middle;\n",
       "    }\n",
       "\n",
       "    .dataframe tbody tr th {\n",
       "        vertical-align: top;\n",
       "    }\n",
       "\n",
       "    .dataframe thead th {\n",
       "        text-align: right;\n",
       "    }\n",
       "</style>\n",
       "<table border=\"1\" class=\"dataframe\">\n",
       "  <thead>\n",
       "    <tr style=\"text-align: right;\">\n",
       "      <th></th>\n",
       "      <th>date</th>\n",
       "      <th>cpi_announcement</th>\n",
       "      <th>cpi_change</th>\n",
       "      <th>days_until_next_announcement</th>\n",
       "    </tr>\n",
       "  </thead>\n",
       "  <tbody>\n",
       "    <tr>\n",
       "      <th>0</th>\n",
       "      <td>2024-11-13</td>\n",
       "      <td>1</td>\n",
       "      <td>NaN</td>\n",
       "      <td>-34.0</td>\n",
       "    </tr>\n",
       "    <tr>\n",
       "      <th>1</th>\n",
       "      <td>2024-10-10</td>\n",
       "      <td>1</td>\n",
       "      <td>-0.001</td>\n",
       "      <td>-29.0</td>\n",
       "    </tr>\n",
       "    <tr>\n",
       "      <th>2</th>\n",
       "      <td>2024-09-11</td>\n",
       "      <td>1</td>\n",
       "      <td>0.000</td>\n",
       "      <td>-28.0</td>\n",
       "    </tr>\n",
       "    <tr>\n",
       "      <th>3</th>\n",
       "      <td>2024-08-14</td>\n",
       "      <td>1</td>\n",
       "      <td>0.003</td>\n",
       "      <td>-34.0</td>\n",
       "    </tr>\n",
       "    <tr>\n",
       "      <th>4</th>\n",
       "      <td>2024-07-11</td>\n",
       "      <td>1</td>\n",
       "      <td>0.001</td>\n",
       "      <td>-29.0</td>\n",
       "    </tr>\n",
       "    <tr>\n",
       "      <th>5</th>\n",
       "      <td>2024-06-12</td>\n",
       "      <td>1</td>\n",
       "      <td>-0.002</td>\n",
       "      <td>-28.0</td>\n",
       "    </tr>\n",
       "    <tr>\n",
       "      <th>6</th>\n",
       "      <td>2024-05-15</td>\n",
       "      <td>1</td>\n",
       "      <td>0.000</td>\n",
       "      <td>-35.0</td>\n",
       "    </tr>\n",
       "    <tr>\n",
       "      <th>7</th>\n",
       "      <td>2024-04-10</td>\n",
       "      <td>1</td>\n",
       "      <td>-0.001</td>\n",
       "      <td>-29.0</td>\n",
       "    </tr>\n",
       "    <tr>\n",
       "      <th>8</th>\n",
       "      <td>2024-03-12</td>\n",
       "      <td>1</td>\n",
       "      <td>0.001</td>\n",
       "      <td>-28.0</td>\n",
       "    </tr>\n",
       "    <tr>\n",
       "      <th>9</th>\n",
       "      <td>2024-02-13</td>\n",
       "      <td>1</td>\n",
       "      <td>0.000</td>\n",
       "      <td>-33.0</td>\n",
       "    </tr>\n",
       "    <tr>\n",
       "      <th>10</th>\n",
       "      <td>2024-01-11</td>\n",
       "      <td>1</td>\n",
       "      <td>0.000</td>\n",
       "      <td>-30.0</td>\n",
       "    </tr>\n",
       "    <tr>\n",
       "      <th>11</th>\n",
       "      <td>2023-12-12</td>\n",
       "      <td>1</td>\n",
       "      <td>-0.001</td>\n",
       "      <td>-28.0</td>\n",
       "    </tr>\n",
       "    <tr>\n",
       "      <th>12</th>\n",
       "      <td>2023-11-14</td>\n",
       "      <td>1</td>\n",
       "      <td>-0.003</td>\n",
       "      <td>-33.0</td>\n",
       "    </tr>\n",
       "    <tr>\n",
       "      <th>13</th>\n",
       "      <td>2023-10-12</td>\n",
       "      <td>1</td>\n",
       "      <td>-0.002</td>\n",
       "      <td>-29.0</td>\n",
       "    </tr>\n",
       "    <tr>\n",
       "      <th>14</th>\n",
       "      <td>2023-09-13</td>\n",
       "      <td>1</td>\n",
       "      <td>0.004</td>\n",
       "      <td>-34.0</td>\n",
       "    </tr>\n",
       "    <tr>\n",
       "      <th>15</th>\n",
       "      <td>2023-08-10</td>\n",
       "      <td>1</td>\n",
       "      <td>0.000</td>\n",
       "      <td>-29.0</td>\n",
       "    </tr>\n",
       "    <tr>\n",
       "      <th>16</th>\n",
       "      <td>2023-07-12</td>\n",
       "      <td>1</td>\n",
       "      <td>0.002</td>\n",
       "      <td>NaN</td>\n",
       "    </tr>\n",
       "  </tbody>\n",
       "</table>\n",
       "</div>"
      ],
      "text/plain": [
       "         date  cpi_announcement  cpi_change  days_until_next_announcement\n",
       "0  2024-11-13                 1         NaN                         -34.0\n",
       "1  2024-10-10                 1      -0.001                         -29.0\n",
       "2  2024-09-11                 1       0.000                         -28.0\n",
       "3  2024-08-14                 1       0.003                         -34.0\n",
       "4  2024-07-11                 1       0.001                         -29.0\n",
       "5  2024-06-12                 1      -0.002                         -28.0\n",
       "6  2024-05-15                 1       0.000                         -35.0\n",
       "7  2024-04-10                 1      -0.001                         -29.0\n",
       "8  2024-03-12                 1       0.001                         -28.0\n",
       "9  2024-02-13                 1       0.000                         -33.0\n",
       "10 2024-01-11                 1       0.000                         -30.0\n",
       "11 2023-12-12                 1      -0.001                         -28.0\n",
       "12 2023-11-14                 1      -0.003                         -33.0\n",
       "13 2023-10-12                 1      -0.002                         -29.0\n",
       "14 2023-09-13                 1       0.004                         -34.0\n",
       "15 2023-08-10                 1       0.000                         -29.0\n",
       "16 2023-07-12                 1       0.002                           NaN"
      ]
     },
     "execution_count": 6,
     "metadata": {},
     "output_type": "execute_result"
    }
   ],
   "source": [
    "cpi"
   ]
  },
  {
   "cell_type": "code",
   "execution_count": null,
   "id": "04a65d12",
   "metadata": {
    "scrolled": true
   },
   "outputs": [],
   "source": [
    "interest_rates"
   ]
  },
  {
   "cell_type": "markdown",
   "id": "eb75850f",
   "metadata": {},
   "source": [
    "### Feature Addition"
   ]
  },
  {
   "cell_type": "code",
   "execution_count": 13,
   "id": "cb53c8b3",
   "metadata": {},
   "outputs": [],
   "source": [
    "df = df.merge(cpi, on='date', how='left')\n",
    "# df = df.merge(interest_rates, on='date', how='left')\n",
    "# df = df.merge(un_rate, on='date', how='left')\n",
    "# df.fillna(0,inplace=True)\n",
    "# df.shape"
   ]
  },
  {
   "cell_type": "code",
   "execution_count": null,
   "id": "138a2e33",
   "metadata": {},
   "outputs": [],
   "source": [
    "df, calendar_predictors = create_calendar_features(df, date_col='date')\n",
    "df.head()"
   ]
  },
  {
   "cell_type": "code",
   "execution_count": null,
   "id": "b59844a6",
   "metadata": {},
   "outputs": [],
   "source": [
    "# df, ohlc_predictors = create_ohlc_features(df)\n",
    "df, ohlc_predictors = create_ohlc_features(df)\n",
    "df.shape"
   ]
  },
  {
   "cell_type": "code",
   "execution_count": null,
   "id": "689480b9",
   "metadata": {},
   "outputs": [],
   "source": [
    "list(df.columns[8:14])"
   ]
  },
  {
   "cell_type": "code",
   "execution_count": null,
   "id": "93c3d7b4",
   "metadata": {},
   "outputs": [],
   "source": [
    "fed_predictors = list(df.columns[8:14])"
   ]
  },
  {
   "cell_type": "code",
   "execution_count": null,
   "id": "0ad1e853",
   "metadata": {},
   "outputs": [],
   "source": [
    "predictors = calendar_predictors + fed_predictors + ohlc_predictors \n"
   ]
  },
  {
   "cell_type": "code",
   "execution_count": null,
   "id": "9612c4ae",
   "metadata": {},
   "outputs": [],
   "source": [
    "df.isna().sum().sort_values()"
   ]
  },
  {
   "cell_type": "code",
   "execution_count": null,
   "id": "1846d56a",
   "metadata": {},
   "outputs": [],
   "source": [
    "df.dropna(inplace=True)"
   ]
  },
  {
   "cell_type": "code",
   "execution_count": null,
   "id": "9a293562",
   "metadata": {},
   "outputs": [],
   "source": [
    "model = RandomForestClassifier(random_state=1)\n",
    "predictions = backtest(df, model, predictors)\n",
    "precision_score(predictions[\"target\"], predictions[\"Predictions\"])\n"
   ]
  },
  {
   "cell_type": "code",
   "execution_count": null,
   "id": "14ad7faa",
   "metadata": {},
   "outputs": [],
   "source": [
    "predictions"
   ]
  },
  {
   "cell_type": "code",
   "execution_count": null,
   "id": "3846a95d",
   "metadata": {},
   "outputs": [],
   "source": [
    "predictions[\"target\"].value_counts() / predictions.shape[0]\n"
   ]
  },
  {
   "cell_type": "code",
   "execution_count": null,
   "id": "f83e9558",
   "metadata": {},
   "outputs": [],
   "source": [
    "feature_importances.head(30)"
   ]
  },
  {
   "cell_type": "code",
   "execution_count": null,
   "id": "b40ad873",
   "metadata": {},
   "outputs": [],
   "source": [
    "# Get feature importances\n",
    "importances = model.feature_importances_\n",
    "feature_importances = pd.DataFrame({\n",
    "    'Feature': predictors,\n",
    "    'Importance': importances\n",
    "}).sort_values(by=\"Importance\", ascending=False)\n",
    "\n",
    "# Plot the feature importances\n",
    "plt.figure(figsize=(10, 6))\n",
    "plt.barh(feature_importances['Feature'], feature_importances['Importance'], color='skyblue')\n",
    "plt.xlabel('Feature Importance')\n",
    "plt.ylabel('Feature')\n",
    "plt.title('Feature Importances from Random Forest')\n",
    "plt.gca().invert_yaxis()  \n",
    "plt.show()"
   ]
  },
  {
   "cell_type": "code",
   "execution_count": null,
   "id": "ed701cda",
   "metadata": {},
   "outputs": [],
   "source": []
  },
  {
   "cell_type": "markdown",
   "id": "d530696d",
   "metadata": {},
   "source": [
    "### Feature Selection"
   ]
  },
  {
   "cell_type": "markdown",
   "id": "384cd3cb",
   "metadata": {},
   "source": [
    "### Evaluation"
   ]
  }
 ],
 "metadata": {
  "kernelspec": {
   "display_name": "Python 3 (ipykernel)",
   "language": "python",
   "name": "python3"
  },
  "language_info": {
   "codemirror_mode": {
    "name": "ipython",
    "version": 3
   },
   "file_extension": ".py",
   "mimetype": "text/x-python",
   "name": "python",
   "nbconvert_exporter": "python",
   "pygments_lexer": "ipython3",
   "version": "3.11.1"
  }
 },
 "nbformat": 4,
 "nbformat_minor": 5
}
